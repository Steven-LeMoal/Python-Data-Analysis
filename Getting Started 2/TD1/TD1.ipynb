{
 "cells": [
  {
   "cell_type": "markdown",
   "metadata": {
    "colab_type": "text",
    "id": "view-in-github"
   },
   "source": [
    "<a href=\"https://colab.research.google.com/github/SushiFou/Python_4_Data_Analysis/blob/main/tutorials/tutorial_1/Tutorial_1_Python_Data_Analysis.ipynb\" target=\"_parent\"><img src=\"https://colab.research.google.com/assets/colab-badge.svg\" alt=\"Open In Colab\"/></a>"
   ]
  },
  {
   "cell_type": "markdown",
   "metadata": {
    "id": "vDFIUnEwTEap"
   },
   "source": [
    "# Tutorial 1 - Python For Data Analysis 🐍 \n",
    "\n",
    "---\n",
    "\n",
    "## Basics of Python 🌱 "
   ]
  },
  {
   "cell_type": "markdown",
   "metadata": {
    "id": "4vZmx4svsEWM"
   },
   "source": [
    "### *Table of Contents*\n",
    "\n",
    "- [Exercise 1](#exercise-1) : List\n",
    "- [Exercise 2](#exercise-2) : Lambda\n",
    "- [Exercise 3](#exercise-3) : Dictionary\n",
    "- [Exercise 4](#exercise-4) : Tuples, Sets\n",
    "- [Exercice 5](#exercise-5) : Dates\n",
    "- [Exercise 6](#exercise-6) : File I/O\n",
    "\n",
    "If you have any questions or remarks about the course or this tutorial, feel free to contact imen.ouled_dlala@devinci.fr or yann.kervella.pro@gmail.com ! 😊"
   ]
  },
  {
   "cell_type": "markdown",
   "metadata": {
    "id": "FLqTjhd4y0Ts"
   },
   "source": [
    "### Requirements"
   ]
  },
  {
   "cell_type": "code",
   "execution_count": 1,
   "metadata": {
    "id": "690W_WeZyzqk"
   },
   "outputs": [],
   "source": [
    "from datetime import datetime, date, time, timedelta\n",
    "import pytz\n",
    "import re\n",
    "import numpy as np"
   ]
  },
  {
   "cell_type": "markdown",
   "metadata": {
    "id": "JpFs22a7YTve"
   },
   "source": [
    "<a name=\"exercise-1\">\n",
    "\n",
    "### Exercise 1 : List\n",
    "---\n",
    "\n",
    "• Write a program to print a specified list after removing the 0th, 4th and 5th elements. \n",
    "\n",
    "- *Sample List*: ['Red', 'Green', 'White', 'Black', 'Pink', 'Yellow']\n",
    "\n",
    "- *Expected Output*: ['Green', 'White', 'Black']\n",
    "\n",
    "\n"
   ]
  },
  {
   "cell_type": "code",
   "execution_count": 2,
   "metadata": {
    "id": "tll-PnLLp3Dr"
   },
   "outputs": [
    {
     "name": "stdout",
     "output_type": "stream",
     "text": [
      "Green\n",
      "White\n",
      "Black\n"
     ]
    }
   ],
   "source": [
    "def Exo1_1(tb):\n",
    "    for ele in (tb[1:4] + tb[6:]):\n",
    "        print(ele)\n",
    "\n",
    "#Correction\n",
    "def element_removal_Cor(inputs, positions):\n",
    "    n = len(inputs)\n",
    "    for position in positions:\n",
    "        if position < n:\n",
    "            inputs.pop(position)\n",
    "        else:\n",
    "            print(f'input is too short for position : {position}')\n",
    "    print(inputs)\n",
    "\n",
    "\n",
    "        \n",
    "tb = ['Red', 'Green', 'White', 'Black', 'Pink', 'Yellow']\n",
    "Exo1_1(tb)"
   ]
  },
  {
   "cell_type": "markdown",
   "metadata": {
    "id": "L-kRPYHtpyn6"
   },
   "source": [
    "• Write a program to check whether two lists are circularly identical.\n"
   ]
  },
  {
   "cell_type": "code",
   "execution_count": 3,
   "metadata": {
    "id": "jN8JwO1Sp3n9"
   },
   "outputs": [
    {
     "data": {
      "text/plain": [
       "False"
      ]
     },
     "execution_count": 3,
     "metadata": {},
     "output_type": "execute_result"
    }
   ],
   "source": [
    "def Exo1_2(x,y):\n",
    "    n = len(x)\n",
    "    m = len(y)\n",
    "    \n",
    "    if(n != m):\n",
    "        return n;\n",
    "    \n",
    "    tmp = 0;\n",
    "    \n",
    "    while(tmp < n):\n",
    "        if(x[0] == y[tmp]):\n",
    "            if(x == (y[tmp:] + y[:tmp])): return True\n",
    "        else:\n",
    "            tmp += 1\n",
    "    \n",
    "    return False\n",
    "\n",
    "#Correction\n",
    "def circularly_identical(list1, list2):\n",
    "    list3 = list1 * 2\n",
    "     \n",
    "    for x in range(0, len(list1)):\n",
    "        z = 0\n",
    "         \n",
    "        for y in range(x, x + len(list1)):\n",
    "            if list2[z]== list3[y]:\n",
    "                z+= 1\n",
    "            else:\n",
    "                break\n",
    "             \n",
    "        if z == len(list1):\n",
    "            return True\n",
    "     \n",
    "    return False\n",
    "\n",
    "def circularly_identical(list1, list2):\n",
    "  # doubling list\n",
    "  list1.extend(list1)\n",
    "  \n",
    "  for i in range(len(list1)):\n",
    "    if list2 == list1[i: i + len(list2)]:\n",
    "      return True\n",
    "  return False\n",
    "\n",
    "def circularly_identical(list1, list2):\n",
    "    return(' '.join(map(str, list2)) in ' '.join(map(str, list1 * 2)))\n",
    "     \n",
    "\n",
    "                \n",
    "                \n",
    "x = [4, 10, 3, 2]\n",
    "y = [2, 4, 10, 3]\n",
    "z = [1, 2, 3, 4]\n",
    "\n",
    "Exo1_2(z,y)\n",
    "    "
   ]
  },
  {
   "cell_type": "markdown",
   "metadata": {
    "id": "labqqrPEp0WZ"
   },
   "source": [
    "• Giving the following list [33, 56, 4, 80, 23, 100, 1, 0, 40, 11], write a program to extract:\n",
    "- the elements from 0 (included) to 7 (excluded)\n",
    "- the last element of the list\n",
    "- the last 3 elements of the list\n",
    "\n",
    "\n"
   ]
  },
  {
   "cell_type": "code",
   "execution_count": 4,
   "metadata": {
    "id": "KxqdxuKep4B6"
   },
   "outputs": [],
   "source": [
    "def extract(x):\n",
    "    return x[0:8] + x[-1] + x[-3:]"
   ]
  },
  {
   "cell_type": "markdown",
   "metadata": {
    "id": "_71yk3m5p2ZL"
   },
   "source": [
    "• Write a program to get a list, sorted in increasing order by the last element in each tuple from a given list of non-empty tuples.\n",
    "\n",
    "- *Sample List* : [(2, 5), (1, 2), (4, 4), (2, 3), (2, 1)] \n",
    "\n",
    "- *Expected Result* : [(2, 1), (1, 2), (2, 3), (4, 4), (2, 5)]"
   ]
  },
  {
   "cell_type": "code",
   "execution_count": 5,
   "metadata": {
    "id": "Kilm6EzSp4mV"
   },
   "outputs": [
    {
     "name": "stdout",
     "output_type": "stream",
     "text": [
      "[(2, 1), (1, 2), (2, 3), (4, 4), (2, 5)]\n"
     ]
    }
   ],
   "source": [
    "def sort_bylast(x):\n",
    "    return list(sorted(x,key = lambda i : i[1]))\n",
    "\n",
    "a = [(2, 5), (1, 2), (4, 4), (2, 3), (2, 1)]\n",
    "print(sort_bylast(a))"
   ]
  },
  {
   "cell_type": "markdown",
   "metadata": {
    "id": "EzJfdnlaT0cp"
   },
   "source": [
    "<a name=\"exercise-2\">\n",
    "\n",
    "### Exercise 2\n",
    "---\n",
    "\n",
    "• Write a program to **square and cube** every number in a given list of integers using **Lambda**.\n",
    "\n",
    "- Original list of integers:\n",
    "[1, 2, 3, 4, 5, 6, 7, 8, 9, 10]\n",
    "\n",
    "- Square every number of the said list:\n",
    "[1, 4, 9, 16, 25, 36, 49, 64, 81, 100]\n",
    "\n",
    "- Cube every number of the said list:\n",
    "[1, 8, 27, 64, 125, 216, 343, 512, 729, 1000]"
   ]
  },
  {
   "cell_type": "code",
   "execution_count": 6,
   "metadata": {
    "id": "1ebs9VAuqGCX"
   },
   "outputs": [
    {
     "name": "stdout",
     "output_type": "stream",
     "text": [
      "[1, 16, 81, 256, 625, 1296, 2401, 4096, 6561, 10000]\n",
      "[1, 512, 19683, 262144, 1953125, 10077696, 40353607, 134217728, 387420489, 1000000000]\n"
     ]
    }
   ],
   "source": [
    "def power(tab, n): \n",
    "    return list(map(lambda x : x**n, tab))\n",
    "\n",
    "square = [1, 4, 9, 16, 25, 36, 49, 64, 81, 100]\n",
    "print(power(square, 2))\n",
    "\n",
    "cube = [1, 8, 27, 64, 125, 216, 343, 512, 729, 1000]\n",
    "print(power(cube, 3))"
   ]
  },
  {
   "cell_type": "markdown",
   "metadata": {
    "id": "Mb25kK7nTD26"
   },
   "source": [
    "<a name=\"exercise-3\">\n",
    "\n",
    "### Exercise 3 : Dictionary\n",
    "\n",
    "---\n",
    "\n",
    "• Write a script to check whether a given key already exists in a dictionary.\n",
    "\n"
   ]
  },
  {
   "cell_type": "code",
   "execution_count": 7,
   "metadata": {
    "id": "4a11mMGSjNse"
   },
   "outputs": [],
   "source": [
    "sample_dict = {\"name\": \"Jefferson\", \"birth_date\": \"1999-21-09\", \"gender\": \"Male\"}"
   ]
  },
  {
   "cell_type": "code",
   "execution_count": 11,
   "metadata": {
    "id": "z6Lw29geqvse"
   },
   "outputs": [
    {
     "name": "stdout",
     "output_type": "stream",
     "text": [
      "exist deja\n"
     ]
    }
   ],
   "source": [
    "def key_exist(dico, key):\n",
    "    return key in dico\n",
    "\n",
    "inputs = \"name\"\n",
    "\n",
    "if(key_exist(sample_dict, inputs)):\n",
    "    print(\"exist deja\")\n",
    "else:\n",
    "    print(\"existe pas\")"
   ]
  },
  {
   "cell_type": "markdown",
   "metadata": {
    "id": "bNakccKyqyIE"
   },
   "source": [
    "• Write a program to iterate over dictionaries using for loops.\n"
   ]
  },
  {
   "cell_type": "code",
   "execution_count": 14,
   "metadata": {
    "id": "Yey6IhTiqaPQ"
   },
   "outputs": [
    {
     "name": "stdout",
     "output_type": "stream",
     "text": [
      "name : Jefferson\n",
      "birth_date : 1999-21-09\n",
      "gender : Male\n"
     ]
    }
   ],
   "source": [
    "def it_dict(dico):\n",
    "    for ele in dico:\n",
    "        print(ele, \":\",dico[ele])\n",
    "    return 0\n",
    "        \n",
    "it_dict(sample_dict)"
   ]
  },
  {
   "cell_type": "markdown",
   "metadata": {
    "id": "lboerwu5qzhj"
   },
   "source": [
    "• Write a script to generate and print a dictionary that contains a number (between 1 and n) in the form (x, x*x).\n",
    "\n",
    "- Sample Dictionary: (n = 5)\n",
    "- Expected Output: {1: 1, 2: 4, 3: 9, 4: 16, 5: 25}\n"
   ]
  },
  {
   "cell_type": "code",
   "execution_count": 17,
   "metadata": {
    "id": "WaMO5zivqz1c"
   },
   "outputs": [
    {
     "name": "stdout",
     "output_type": "stream",
     "text": [
      "1 : 1\n",
      "2 : 4\n",
      "3 : 9\n",
      "4 : 16\n"
     ]
    }
   ],
   "source": [
    "def create_dico(n):\n",
    "    return {k : k*k for k in range(1, n)}\n",
    "\n",
    "it_dict(create_dico(5))"
   ]
  },
  {
   "cell_type": "markdown",
   "metadata": {
    "id": "LUlJTVINq34S"
   },
   "source": [
    "• Write a program to map two lists into a dictionary."
   ]
  },
  {
   "cell_type": "code",
   "execution_count": 10,
   "metadata": {
    "id": "sSIY9O9wjUK9"
   },
   "outputs": [],
   "source": [
    "list1 = [\"name\", \"birth_date\", \"gender\"]\n",
    "list2 = [\"Jessica\", \"1999-04-05\", \"Female\"]"
   ]
  },
  {
   "cell_type": "code",
   "execution_count": 19,
   "metadata": {
    "id": "YfuVeqCgq4jF"
   },
   "outputs": [
    {
     "name": "stdout",
     "output_type": "stream",
     "text": [
      "name : Jessica\n",
      "birth_date : 1999-04-05\n",
      "gender : Female\n"
     ]
    }
   ],
   "source": [
    "def map_2lists(x,y):\n",
    "    if x and y:\n",
    "        return {k : v for k, v in zip(list1, list2)}\n",
    "    return {}\n",
    "\n",
    "it_dict(map_2lists(list1, list2))"
   ]
  },
  {
   "cell_type": "markdown",
   "metadata": {
    "id": "RfTIualkqLuO"
   },
   "source": [
    "<a name=\"exercise-4\">\n",
    "\n",
    "### Exercise 4 : Tuples & Sets\n",
    "\n",
    "---\n",
    "• Write a program to compute element-wise sum of given tuples. \n",
    "- Original lists:\n",
    "(1, 2, 3, 4) (3, 5, 2, 1) (2, 2, 3, 1)\n",
    "- Element-wise sum of the said tuples:\n",
    "(6, 9, 8, 6)"
   ]
  },
  {
   "cell_type": "code",
   "execution_count": 21,
   "metadata": {
    "id": "HX51VZZTqai7"
   },
   "outputs": [
    {
     "name": "stdout",
     "output_type": "stream",
     "text": [
      "(6, 9, 8, 6)\n"
     ]
    }
   ],
   "source": [
    "def wise_sum(list1):\n",
    "    if list1:\n",
    "        n = len(list1)\n",
    "        m = len(list1[0])\n",
    "        return tuple(sum(list1[j][i] for j in range(n)) for i in range(m))\n",
    "    return ()\n",
    "\n",
    "list1 = [(1, 2, 3, 4),(3, 5, 2, 1),(2, 2, 3, 1)]\n",
    "print(wise_sum(list1))"
   ]
  },
  {
   "cell_type": "markdown",
   "metadata": {
    "id": "c8JK4pWBrDXY"
   },
   "source": [
    "• Write a Python program to convert a tuple to a dictionary"
   ]
  },
  {
   "cell_type": "code",
   "execution_count": 22,
   "metadata": {
    "id": "-bmqgodFrENX"
   },
   "outputs": [
    {
     "name": "stdout",
     "output_type": "stream",
     "text": [
      "11 : onze\n",
      "20 : vingth\n"
     ]
    }
   ],
   "source": [
    "def tuple_to_dico(tup):\n",
    "    if tup:\n",
    "        return {ele[0] : ele[1] for ele in tup}\n",
    "    return {}\n",
    "\n",
    "tup = ((11, \"onze\"), (20, \"vingth\"))\n",
    "it_dict(tuple_to_dico(tup))"
   ]
  },
  {
   "cell_type": "markdown",
   "metadata": {
    "id": "pLvO5ho7qMIq"
   },
   "source": [
    "<a name=\"exercise-5\">\n",
    "\n",
    "### Exercise 5 : Dates\n",
    "\n",
    "---\n",
    "• Write a Python program to get the current time. \n",
    "- Sample Format: 13:19:49.078205"
   ]
  },
  {
   "cell_type": "code",
   "execution_count": 25,
   "metadata": {
    "id": "Kpi8L46Aqa2n"
   },
   "outputs": [
    {
     "name": "stdout",
     "output_type": "stream",
     "text": [
      "20:51:34.479566\n"
     ]
    }
   ],
   "source": [
    "def get_current():\n",
    "    return datetime.now().time()\n",
    "\n",
    "print(get_current())"
   ]
  },
  {
   "cell_type": "markdown",
   "metadata": {
    "id": "9jSxS7yGrJdy"
   },
   "source": [
    "• Write a Python program to subtract five days from current date. \n",
    "- Sample Date:\n",
    "- Current Date: 2015-06-22\n",
    "- 5 days before Current Date : 2015-06-1"
   ]
  },
  {
   "cell_type": "code",
   "execution_count": 28,
   "metadata": {
    "id": "xmGmeZzGrJxT"
   },
   "outputs": [
    {
     "name": "stdout",
     "output_type": "stream",
     "text": [
      "2022-09-14\n"
     ]
    }
   ],
   "source": [
    "def subday(n):\n",
    "    return datetime.now() - timedelta(days=n)\n",
    "\n",
    "print(subday(5).strftime(\"%Y-%m-%d\"))"
   ]
  },
  {
   "cell_type": "markdown",
   "metadata": {
    "id": "jf5pU_5frJ9k"
   },
   "source": [
    "• Write a Python program to print yesterday, today, tomorrow"
   ]
  },
  {
   "cell_type": "code",
   "execution_count": 31,
   "metadata": {
    "id": "pnfsJE_DrLN7"
   },
   "outputs": [
    {
     "name": "stdout",
     "output_type": "stream",
     "text": [
      "yesterday :  2022-09-18 20:58:23.082997\n",
      "today :  2022-09-19 20:58:23.083100\n",
      "tomorrow :  2022-09-20 20:58:23.083152\n"
     ]
    }
   ],
   "source": [
    "def arround_day():\n",
    "    print(\"yesterday : \",subday(1))\n",
    "    print(\"today : \",datetime.now())\n",
    "    print(\"tomorrow : \",subday(-1))\n",
    "    return 0\n",
    "    \n",
    "arround_day()"
   ]
  },
  {
   "cell_type": "markdown",
   "metadata": {
    "id": "9PDdb6vqrLcJ"
   },
   "source": [
    "• Write a Python program to get week number.\n",
    "- Sample Date : 2015, 6, 16 \n",
    "- Expected Output : 25"
   ]
  },
  {
   "cell_type": "code",
   "execution_count": 32,
   "metadata": {
    "id": "jwEi-R9jrL1y"
   },
   "outputs": [
    {
     "name": "stdout",
     "output_type": "stream",
     "text": [
      "38\n"
     ]
    }
   ],
   "source": [
    "def week_count(date1):\n",
    "    if date:\n",
    "        #return date1.isocalendar().week\n",
    "        return int(date1.strftime(\"%V\"))\n",
    "    return 0\n",
    "    \n",
    "print(week_count(datetime.now()))"
   ]
  },
  {
   "cell_type": "markdown",
   "metadata": {
    "id": "Ax4N_WSLrdA7"
   },
   "source": [
    "• Write a Python program to calculate a number of days between two dates"
   ]
  },
  {
   "cell_type": "code",
   "execution_count": 34,
   "metadata": {
    "id": "AeMcc8ePrd95"
   },
   "outputs": [
    {
     "name": "stdout",
     "output_type": "stream",
     "text": [
      "9\n"
     ]
    }
   ],
   "source": [
    "def dif_day(date1, date2):\n",
    "    if date1 and date2:\n",
    "        delta = date1 - date2\n",
    "        return delta.days\n",
    "    return 0\n",
    "\n",
    "date1 = date(2019, 7, 11)\n",
    "date2 = date(2019, 7, 2)\n",
    "\n",
    "print(dif_day(date1, date2))"
   ]
  },
  {
   "cell_type": "markdown",
   "metadata": {
    "id": "CyHCE-dZqMb-"
   },
   "source": [
    "<a name=\"exercise-6\">\n",
    "\n",
    "### Exercise 6 : File I/O\n",
    "\n",
    "---\n",
    "• Write a Python program to count the number of lines in a text file"
   ]
  },
  {
   "cell_type": "code",
   "execution_count": 38,
   "metadata": {
    "id": "t98dO2T0qbHK"
   },
   "outputs": [
    {
     "name": "stdout",
     "output_type": "stream",
     "text": [
      "9\n"
     ]
    }
   ],
   "source": [
    "def count_lines(path):\n",
    "    with open(path) as f:\n",
    "        for index, lines in enumerate(f):\n",
    "            pass\n",
    "        return index + 1\n",
    "        \n",
    "print(count_lines(\"test.txt\"))"
   ]
  },
  {
   "cell_type": "markdown",
   "metadata": {
    "id": "n19_Rg0sqf6H"
   },
   "source": [
    "• Write a Python program to assess if a file is closed or not\n"
   ]
  },
  {
   "cell_type": "code",
   "execution_count": 46,
   "metadata": {
    "id": "6VKrc_1NqhKY"
   },
   "outputs": [
    {
     "data": {
      "text/plain": [
       "False"
      ]
     },
     "execution_count": 46,
     "metadata": {},
     "output_type": "execute_result"
    }
   ],
   "source": [
    "def assess_file(path):\n",
    "    f = open(path,'r')\n",
    "    return f.closed and f.close()\n",
    "\n",
    "assess_file(\"test.txt\")"
   ]
  },
  {
   "cell_type": "markdown",
   "metadata": {
    "id": "WxgHAFb4qhnC"
   },
   "source": [
    "• Write a Python program to append text to a file and display the text\n"
   ]
  },
  {
   "cell_type": "code",
   "execution_count": 55,
   "metadata": {
    "id": "OR-DpP9BqivV"
   },
   "outputs": [
    {
     "name": "stdout",
     "output_type": "stream",
     "text": [
      "\n",
      "This is a sentence..."
     ]
    }
   ],
   "source": [
    "def input_file(path, line):\n",
    "        #line = str(input(\"Please insert a text : \"))\n",
    "        with open(path, \"w\") as f:\n",
    "            if line:\n",
    "                f.write(\"\\n\" + line)\n",
    "                \n",
    "        with open(path, \"r\") as f:\n",
    "            for ele in f:\n",
    "                print(end = ele)\n",
    "        \n",
    "        return 0\n",
    "        \n",
    "input_file(\"test.txt\", \"This is a sentence...\")"
   ]
  },
  {
   "cell_type": "markdown",
   "metadata": {
    "id": "ZEt-WWckqjSN"
   },
   "source": [
    "• Write a Python program to count the frequency of words in a file."
   ]
  },
  {
   "cell_type": "code",
   "execution_count": 57,
   "metadata": {
    "id": "fWXNHF6LqkId"
   },
   "outputs": [
    {
     "name": "stdout",
     "output_type": "stream",
     "text": [
      "\n",
      " : 1\n",
      "this : 1\n",
      "is : 1\n",
      "a : 1\n",
      "sentence... : 1\n"
     ]
    },
    {
     "data": {
      "text/plain": [
       "0"
      ]
     },
     "execution_count": 57,
     "metadata": {},
     "output_type": "execute_result"
    }
   ],
   "source": [
    "def word_freq(path):\n",
    "    dico = {}\n",
    "    with open(path, \"r\") as f:\n",
    "        for line in f:\n",
    "            for ele in line.lower().split(\" \"):\n",
    "                if ele in dico:\n",
    "                    dico[ele] += 1\n",
    "                else:\n",
    "                    dico[ele] = 1\n",
    "    it_dict(dico)\n",
    "    return 0\n",
    "    \n",
    "word_freq(\"test.txt\")"
   ]
  },
  {
   "cell_type": "markdown",
   "metadata": {
    "id": "GhMKdGQwi9gA"
   },
   "source": [
    "## Good job, you finished the first tutorial ! 😎"
   ]
  }
 ],
 "metadata": {
  "colab": {
   "authorship_tag": "ABX9TyOsk8AdOFOg/2ese/ifSCq3",
   "include_colab_link": true,
   "name": "Tutorial_1_Python_Data_Analysis.ipynb",
   "provenance": [],
   "toc_visible": true
  },
  "kernelspec": {
   "display_name": "Python 3 (ipykernel)",
   "language": "python",
   "name": "python3"
  },
  "language_info": {
   "codemirror_mode": {
    "name": "ipython",
    "version": 3
   },
   "file_extension": ".py",
   "mimetype": "text/x-python",
   "name": "python",
   "nbconvert_exporter": "python",
   "pygments_lexer": "ipython3",
   "version": "3.9.7"
  },
  "vscode": {
   "interpreter": {
    "hash": "b0fa6594d8f4cbf19f97940f81e996739fb7646882a419484c72d19e05852a7e"
   }
  }
 },
 "nbformat": 4,
 "nbformat_minor": 1
}
