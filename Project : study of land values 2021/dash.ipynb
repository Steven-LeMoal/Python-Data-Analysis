{
 "cells": [
  {
   "cell_type": "code",
   "execution_count": 24,
   "id": "d56c7fb9-da1a-4181-8814-6d5ea841a256",
   "metadata": {},
   "outputs": [
    {
     "name": "stdout",
     "output_type": "stream",
     "text": [
      "Requirement already satisfied: dash==2.0.0 in /Users/steven/.venv/dash/lib/python3.9/site-packages (2.0.0)\n",
      "Requirement already satisfied: plotly>=5.0.0 in /Users/steven/.venv/dash/lib/python3.9/site-packages (from dash==2.0.0) (5.8.0)\n",
      "Requirement already satisfied: Flask>=1.0.4 in /Users/steven/.venv/dash/lib/python3.9/site-packages (from dash==2.0.0) (2.1.2)\n",
      "Requirement already satisfied: dash-core-components==2.0.0 in /Users/steven/.venv/dash/lib/python3.9/site-packages (from dash==2.0.0) (2.0.0)\n",
      "Requirement already satisfied: dash-table==5.0.0 in /Users/steven/.venv/dash/lib/python3.9/site-packages (from dash==2.0.0) (5.0.0)\n",
      "Requirement already satisfied: dash-html-components==2.0.0 in /Users/steven/.venv/dash/lib/python3.9/site-packages (from dash==2.0.0) (2.0.0)\n",
      "Requirement already satisfied: flask-compress in /Users/steven/.venv/dash/lib/python3.9/site-packages (from dash==2.0.0) (1.12)\n",
      "Requirement already satisfied: itsdangerous>=2.0 in /Users/steven/.venv/dash/lib/python3.9/site-packages (from Flask>=1.0.4->dash==2.0.0) (2.1.2)\n",
      "Requirement already satisfied: importlib-metadata>=3.6.0 in /Users/steven/.venv/dash/lib/python3.9/site-packages (from Flask>=1.0.4->dash==2.0.0) (4.11.4)\n",
      "Requirement already satisfied: Werkzeug>=2.0 in /Users/steven/.venv/dash/lib/python3.9/site-packages (from Flask>=1.0.4->dash==2.0.0) (2.1.2)\n",
      "Requirement already satisfied: Jinja2>=3.0 in /Users/steven/.venv/dash/lib/python3.9/site-packages (from Flask>=1.0.4->dash==2.0.0) (3.1.2)\n",
      "Requirement already satisfied: click>=8.0 in /Users/steven/.venv/dash/lib/python3.9/site-packages (from Flask>=1.0.4->dash==2.0.0) (8.1.3)\n",
      "Requirement already satisfied: tenacity>=6.2.0 in /Users/steven/.venv/dash/lib/python3.9/site-packages (from plotly>=5.0.0->dash==2.0.0) (8.0.1)\n",
      "Requirement already satisfied: brotli in /Users/steven/.venv/dash/lib/python3.9/site-packages (from flask-compress->dash==2.0.0) (1.0.9)\n",
      "Requirement already satisfied: zipp>=0.5 in /Users/steven/.venv/dash/lib/python3.9/site-packages (from importlib-metadata>=3.6.0->Flask>=1.0.4->dash==2.0.0) (3.8.0)\n",
      "Requirement already satisfied: MarkupSafe>=2.0 in /Users/steven/.venv/dash/lib/python3.9/site-packages (from Jinja2>=3.0->Flask>=1.0.4->dash==2.0.0) (2.1.1)\n"
     ]
    }
   ],
   "source": [
    "#Bonjour monsieur, c'est steven. Si le fichier mets des erreur d'import lancé \n",
    "#ce que j'ai mis en commentaire\n",
    "#Pour le lien : http://127.0.0.1:8050\n",
    "#par manque de temps je n'ai pue mettre une partie des derniers graphes\n",
    "#mais on peut cliquer sur les plot pour choisir quelle 'paramètres' afficher (carré sur la gauche des graphes)\n",
    "\n",
    "! pip install dash==2.0.0\n",
    "\n",
    "#python -m venv ~/.venv/dash\n",
    "#source ~/.venv/dash/bin/activate\n",
    "#python -m pip install --upgrade pip\n",
    "#pip install jupyter-dash\n",
    "#pip install jupyterlab\n",
    "#jupyter-lab\n",
    "\n",
    "\n",
    "import dash\n",
    "from jupyter_dash import JupyterDash\n",
    "from dash import dcc\n",
    "import dash_html_components as html\n",
    "import plotly.express as px\n",
    "import pandas as pd\n",
    "from dash.dependencies import Output,Input,State\n",
    "import folium\n",
    "import json\n",
    "from urllib.request import urlopen"
   ]
  },
  {
   "cell_type": "code",
   "execution_count": 25,
   "id": "3147b32b-acaa-4b9e-9a0c-459bcfb15382",
   "metadata": {},
   "outputs": [],
   "source": [
    "df = pd.read_csv('data.csv')\n",
    "df = df.drop(['Unnamed: 0'],axis=1)\n",
    "df[\"Date mutation\"] = df[\"Date mutation\"].astype('datetime64[ns]')\n",
    "df[\"Code departement\"] = df[\"Code departement\"].astype(str)\n",
    "df[\"Valeur fonciere\"] = df[\"Valeur fonciere\"].astype(str)\n",
    "df[\"Valeur fonciere\"] = df[\"Valeur fonciere\"].apply(lambda x : float(x.replace(',','.')))\n",
    "dm = df\n",
    "dm.dropna(subset = [\"Nature culture\"], inplace=True)"
   ]
  },
  {
   "cell_type": "code",
   "execution_count": 26,
   "id": "2de75b36-4b6f-4f38-a085-65ea487c6d31",
   "metadata": {},
   "outputs": [],
   "source": [
    "fg = dm.groupby(['Code departement','Date mutation'])['Surface terrain'].sum()\n",
    "fg = fg.reset_index()\n",
    "fg\n",
    "fig = px.bar(fg, x=\"Date mutation\", y=\"Surface terrain\", color='Code departement', orientation='v', height=600,\n",
    "             title='Surface par date et le département', color_discrete_sequence = px.colors.cyclical.mygbm)"
   ]
  },
  {
   "cell_type": "code",
   "execution_count": 27,
   "id": "3232d638-5ff2-4a86-a484-756c006c807d",
   "metadata": {},
   "outputs": [],
   "source": [
    "fig2 = px.treemap(fg.sort_values(by='Surface terrain' ,ascending=False).reset_index(drop=True), path=[\"Code departement\"], values=\"Surface terrain\", height=700,title='Surface/Departement',color_discrete_sequence = px.colors.qualitative.Prism)\n",
    "fig2.data[0].textinfo = 'label+text+value'"
   ]
  },
  {
   "cell_type": "code",
   "execution_count": 28,
   "id": "1861f1da-03c6-4d3c-b984-53647e3cc855",
   "metadata": {},
   "outputs": [],
   "source": [
    "fg = dm\n",
    "fg.dropna(subset = [\"Nature culture\"], inplace=True)\n",
    "fg[\"Valeur fonciere\"] = fg[\"Valeur fonciere\"].astype(str)\n",
    "fg[\"Valeur fonciere\"] = fg[\"Valeur fonciere\"].apply(lambda x : float(x.replace(',','.')))\n",
    "fg = fg.groupby(['Nature culture','Date mutation'])['Valeur fonciere'].sum()\n",
    "fg = fg.reset_index()\n",
    "fig3 = px.bar(fg, x=\"Date mutation\", y=\"Valeur fonciere\", color='Nature culture', orientation='v', height=600,\n",
    "             title='Investiment de type nature culture par date', color_discrete_sequence = px.colors.cyclical.mygbm)"
   ]
  },
  {
   "cell_type": "code",
   "execution_count": 29,
   "id": "22f92aa6-80b8-4b50-ae87-e53c9564a559",
   "metadata": {},
   "outputs": [],
   "source": [
    "data = urlopen(\"https://france-geojson.gregoiredavid.fr/repo/departements.geojson\").read()\n",
    "geo = json.loads(data.decode('utf-8'))\n",
    "fig4=folium.Map(location=[48.856578,2.351828])\n",
    "table=dm.groupby(['Code departement'])['Nature mutation'].count()\n",
    "fig4.choropleth(geo_data=geo, key_on=\"feature.properties.code\", data=table,columns=['Code departement','Nature mutation']\n",
    "                      ,fill_color=\"Spectral\")\n",
    "#fig4"
   ]
  },
  {
   "cell_type": "code",
   "execution_count": 30,
   "id": "917130c6-d98a-4a62-83e9-3cccfaa500f5",
   "metadata": {},
   "outputs": [],
   "source": [
    "app = JupyterDash(__name__)\n",
    "\n",
    "\n",
    "app.layout = html.Div(children = [\n",
    "    html.H1(\"Dashboard\"),\n",
    "    html.Div([\n",
    "        dcc.Dropdown(\n",
    "            id='dropdown1',\n",
    "            options=[{'label': 'Surface vendu par date et département', 'value': '1'},\n",
    "                    {'label': 'La surface des département','value': '2'},\n",
    "                    {'label': 'Vente de terrain type culture selon la date','value': '3'},]\n",
    "            ,value = '1',)\n",
    "        ,],),\n",
    "\n",
    "    html.Div(id='tablecontainer1'),\n",
    "    html.Div(\n",
    "        dcc.Graph(\n",
    "            id='graph1',\n",
    "            className='dropgraph',\n",
    "        ),\n",
    "    )],)\n",
    "\n",
    "#{'label': 'Carte de la france selon le nombre de vente liée à la nature culture','value': '4'},\n",
    "\n",
    "@app.callback(\n",
    "Output('graph1', 'figure'), \n",
    "[Input('dropdown1', 'value')]\n",
    ")\n",
    "#graph plot and styling\n",
    "def update_graph(value):\n",
    "    if value == '1':\n",
    "        return fig\n",
    "    elif value == '2':\n",
    "        return fig2\n",
    "    elif value == '3':\n",
    "        return fig3\n",
    "    \n",
    "#elif value == '4':\n",
    "        #return fig4\n",
    "\n",
    "app.run_server(mode=\"jupyterlab\")"
   ]
  },
  {
   "cell_type": "code",
   "execution_count": 31,
   "id": "3b8fa686-94f5-4c6e-9d56-0411cca90429",
   "metadata": {},
   "outputs": [],
   "source": [
    "#http://127.0.0.1:8050"
   ]
  },
  {
   "cell_type": "code",
   "execution_count": 32,
   "id": "878fbbdb-a7a8-4c86-9dae-ee077d6b6725",
   "metadata": {},
   "outputs": [],
   "source": []
  },
  {
   "cell_type": "code",
   "execution_count": null,
   "id": "532fc021-d123-47fd-ab70-5ecc5e5a6a6d",
   "metadata": {},
   "outputs": [],
   "source": []
  }
 ],
 "metadata": {
  "kernelspec": {
   "display_name": "Python 3 (ipykernel)",
   "language": "python",
   "name": "python3"
  },
  "language_info": {
   "codemirror_mode": {
    "name": "ipython",
    "version": 3
   },
   "file_extension": ".py",
   "mimetype": "text/x-python",
   "name": "python",
   "nbconvert_exporter": "python",
   "pygments_lexer": "ipython3",
   "version": "3.9.7"
  }
 },
 "nbformat": 4,
 "nbformat_minor": 5
}
